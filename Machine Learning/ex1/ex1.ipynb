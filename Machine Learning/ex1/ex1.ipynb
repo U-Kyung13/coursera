{
  "nbformat": 4,
  "nbformat_minor": 0,
  "metadata": {
    "colab": {
      "name": "ex1",
      "provenance": [],
      "authorship_tag": "ABX9TyNfGFZ4+VMLK+65e0U7krgJ",
      "include_colab_link": true
    },
    "kernelspec": {
      "name": "python3",
      "display_name": "Python 3"
    },
    "language_info": {
      "name": "python"
    }
  },
  "cells": [
    {
      "cell_type": "markdown",
      "metadata": {
        "id": "view-in-github",
        "colab_type": "text"
      },
      "source": [
        "<a href=\"https://colab.research.google.com/github/U-Kyung13/coursera/blob/main/Machine%20Learning/ex1/ex1.ipynb\" target=\"_parent\"><img src=\"https://colab.research.google.com/assets/colab-badge.svg\" alt=\"Open In Colab\"/></a>"
      ]
    },
    {
      "cell_type": "markdown",
      "source": [
        "# Programming Exercising 1: Linear Regression"
      ],
      "metadata": {
        "id": "trttaTLLNYAJ"
      }
    },
    {
      "cell_type": "markdown",
      "source": [
        "## 1. Simple Python function\n",
        "> ### 1.1 warmUpexercise\n",
        "- practice with Python syntax\n",
        "- return a 5x5 identity matrix\n",
        "\n",
        "\n",
        "\n",
        "\n"
      ],
      "metadata": {
        "id": "u_KASbF1NgcO"
      }
    },
    {
      "cell_type": "code",
      "execution_count": 13,
      "metadata": {
        "id": "KEm1SSCbIe6W",
        "colab": {
          "base_uri": "https://localhost:8080/"
        },
        "outputId": "b2d870f7-57c4-4961-c2ee-a76451d4ef20"
      },
      "outputs": [
        {
          "output_type": "execute_result",
          "data": {
            "text/plain": [
              "array([[1, 0, 0, 0, 0],\n",
              "       [0, 1, 0, 0, 0],\n",
              "       [0, 0, 1, 0, 0],\n",
              "       [0, 0, 0, 1, 0],\n",
              "       [0, 0, 0, 0, 1]])"
            ]
          },
          "metadata": {},
          "execution_count": 13
        }
      ],
      "source": [
        "import numpy as np\n",
        "\n",
        "# 방법1\n",
        "A1 = np.identity(5, dtype=int)\n",
        "\n",
        "A1"
      ]
    },
    {
      "cell_type": "code",
      "source": [
        "# 방법2\n",
        "A2 = np.eye(N=5, M=5, k=0, dtype=int)\n",
        "# N x M 행렬 \n",
        "# k: identity matrix 시작할 열\n",
        "\n",
        "A2"
      ],
      "metadata": {
        "colab": {
          "base_uri": "https://localhost:8080/"
        },
        "id": "uzf31W0TPZUH",
        "outputId": "af3818ce-c95d-44bd-e576-7194b0319e75"
      },
      "execution_count": 14,
      "outputs": [
        {
          "output_type": "execute_result",
          "data": {
            "text/plain": [
              "array([[1, 0, 0, 0, 0],\n",
              "       [0, 1, 0, 0, 0],\n",
              "       [0, 0, 1, 0, 0],\n",
              "       [0, 0, 0, 1, 0],\n",
              "       [0, 0, 0, 0, 1]])"
            ]
          },
          "metadata": {},
          "execution_count": 14
        }
      ]
    },
    {
      "cell_type": "markdown",
      "source": [
        "## 2. Linear regression with one variable\n",
        "> ### 2.1 Plotting the Data\n",
        "- \n",
        "\n",
        "\n",
        "\n",
        "> ### 2.2 Gradient Descent\n",
        "- \n",
        "\n",
        "\n",
        "> ### 2.3 Debugging\n",
        "- \n",
        "\n",
        "> ### 2.4 Visualizing J(θ)\n",
        "- \n"
      ],
      "metadata": {
        "id": "Gh3gEciJQEk6"
      }
    },
    {
      "cell_type": "code",
      "source": [
        ""
      ],
      "metadata": {
        "id": "MLAHac-r6i_F"
      },
      "execution_count": null,
      "outputs": []
    },
    {
      "cell_type": "code",
      "source": [
        ""
      ],
      "metadata": {
        "id": "4ZCpM4XRQKbX"
      },
      "execution_count": null,
      "outputs": []
    }
  ]
}