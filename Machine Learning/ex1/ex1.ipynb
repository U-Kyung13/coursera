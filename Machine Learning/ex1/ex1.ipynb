{
  "nbformat": 4,
  "nbformat_minor": 0,
  "metadata": {
    "colab": {
      "name": "ex1",
      "provenance": [],
      "authorship_tag": "ABX9TyPAhtsQ5kDMqKNP1kuSaVFa",
      "include_colab_link": true
    },
    "kernelspec": {
      "name": "python3",
      "display_name": "Python 3"
    },
    "language_info": {
      "name": "python"
    }
  },
  "cells": [
    {
      "cell_type": "markdown",
      "metadata": {
        "id": "view-in-github",
        "colab_type": "text"
      },
      "source": [
        "<a href=\"https://colab.research.google.com/github/U-Kyung13/coursera/blob/main/Machine%20Learning/ex1/ex1.ipynb\" target=\"_parent\"><img src=\"https://colab.research.google.com/assets/colab-badge.svg\" alt=\"Open In Colab\"/></a>"
      ]
    },
    {
      "cell_type": "markdown",
      "source": [
        "# Programming Exercising 1: Linear Regression"
      ],
      "metadata": {
        "id": "trttaTLLNYAJ"
      }
    },
    {
      "cell_type": "markdown",
      "source": [
        "### 1. warmUpexercise\n",
        "- practice with Python syntax\n",
        "- return a 5x5 identity matrix"
      ],
      "metadata": {
        "id": "u_KASbF1NgcO"
      }
    },
    {
      "cell_type": "code",
      "execution_count": null,
      "metadata": {
        "id": "KEm1SSCbIe6W"
      },
      "outputs": [],
      "source": [
        "# 파이썬 자료형"
      ]
    },
    {
      "cell_type": "code",
      "source": [
        ""
      ],
      "metadata": {
        "id": "uzf31W0TPZUH"
      },
      "execution_count": null,
      "outputs": []
    }
  ]
}